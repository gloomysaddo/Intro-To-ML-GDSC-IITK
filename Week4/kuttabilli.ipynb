{
  "nbformat": 4,
  "nbformat_minor": 0,
  "metadata": {
    "colab": {
      "provenance": [],
      "gpuType": "T4"
    },
    "kernelspec": {
      "name": "python3",
      "display_name": "Python 3"
    },
    "language_info": {
      "name": "python"
    },
    "accelerator": "GPU"
  },
  "cells": [
    {
      "cell_type": "code",
      "execution_count": 54,
      "metadata": {
        "id": "Oj-_KDGrw9XT"
      },
      "outputs": [],
      "source": [
        "import os\n",
        "import shutil\n",
        "from tensorflow import keras\n",
        "from keras import Sequential\n",
        "from keras.layers import Dense,Conv2D,MaxPooling2D,Flatten,BatchNormalization,Dropout\n",
        "from keras import layers, models\n",
        "from keras.optimizers import RMSprop\n",
        "from keras.preprocessing.image import ImageDataGenerator\n",
        "import matplotlib.pyplot as plt\n",
        "from PIL import Image\n",
        "import numpy as np\n"
      ]
    },
    {
      "cell_type": "code",
      "source": [
        "from keras.applications import VGG16"
      ],
      "metadata": {
        "id": "CNu5sF7aPEfA"
      },
      "execution_count": 53,
      "outputs": []
    },
    {
      "cell_type": "code",
      "source": [
        "from google.colab import drive"
      ],
      "metadata": {
        "id": "xF94IiMhxdH2"
      },
      "execution_count": 31,
      "outputs": []
    },
    {
      "cell_type": "code",
      "source": [
        "drive.mount('/content/drive')"
      ],
      "metadata": {
        "colab": {
          "base_uri": "https://localhost:8080/"
        },
        "id": "qkIS8iHqxiCU",
        "outputId": "23e5a0e9-1e22-40f5-e111-f99cae9e5bb1"
      },
      "execution_count": 32,
      "outputs": [
        {
          "output_type": "stream",
          "name": "stdout",
          "text": [
            "Drive already mounted at /content/drive; to attempt to forcibly remount, call drive.mount(\"/content/drive\", force_remount=True).\n"
          ]
        }
      ]
    },
    {
      "cell_type": "code",
      "source": [
        "train_datagen = ImageDataGenerator(rescale = 1./255,rotation_range = 40, width_shift_range = 0.2, height_shift_range = 0.2,shear_range = 0.2, zoom_range = 0.2, horizontal_flip = True)\n",
        "\n",
        "test_datagen = ImageDataGenerator(rescale=1./255)"
      ],
      "metadata": {
        "id": "iTvcA3Ab0rDt"
      },
      "execution_count": 48,
      "outputs": []
    },
    {
      "cell_type": "code",
      "source": [
        "conv_base = VGG16 (weights = 'imagenet', include_top = False, input_shape = (150 ,150, 3))"
      ],
      "metadata": {
        "id": "ISUpWayz14OK"
      },
      "execution_count": 35,
      "outputs": []
    },
    {
      "cell_type": "code",
      "source": [
        "conv_base.summary()"
      ],
      "metadata": {
        "colab": {
          "base_uri": "https://localhost:8080/"
        },
        "id": "UnG7dzD518x9",
        "outputId": "cea0dafe-b21a-479d-c53e-584b085615aa"
      },
      "execution_count": 7,
      "outputs": [
        {
          "output_type": "stream",
          "name": "stdout",
          "text": [
            "Model: \"vgg16\"\n",
            "_________________________________________________________________\n",
            " Layer (type)                Output Shape              Param #   \n",
            "=================================================================\n",
            " input_1 (InputLayer)        [(None, 150, 150, 3)]     0         \n",
            "                                                                 \n",
            " block1_conv1 (Conv2D)       (None, 150, 150, 64)      1792      \n",
            "                                                                 \n",
            " block1_conv2 (Conv2D)       (None, 150, 150, 64)      36928     \n",
            "                                                                 \n",
            " block1_pool (MaxPooling2D)  (None, 75, 75, 64)        0         \n",
            "                                                                 \n",
            " block2_conv1 (Conv2D)       (None, 75, 75, 128)       73856     \n",
            "                                                                 \n",
            " block2_conv2 (Conv2D)       (None, 75, 75, 128)       147584    \n",
            "                                                                 \n",
            " block2_pool (MaxPooling2D)  (None, 37, 37, 128)       0         \n",
            "                                                                 \n",
            " block3_conv1 (Conv2D)       (None, 37, 37, 256)       295168    \n",
            "                                                                 \n",
            " block3_conv2 (Conv2D)       (None, 37, 37, 256)       590080    \n",
            "                                                                 \n",
            " block3_conv3 (Conv2D)       (None, 37, 37, 256)       590080    \n",
            "                                                                 \n",
            " block3_pool (MaxPooling2D)  (None, 18, 18, 256)       0         \n",
            "                                                                 \n",
            " block4_conv1 (Conv2D)       (None, 18, 18, 512)       1180160   \n",
            "                                                                 \n",
            " block4_conv2 (Conv2D)       (None, 18, 18, 512)       2359808   \n",
            "                                                                 \n",
            " block4_conv3 (Conv2D)       (None, 18, 18, 512)       2359808   \n",
            "                                                                 \n",
            " block4_pool (MaxPooling2D)  (None, 9, 9, 512)         0         \n",
            "                                                                 \n",
            " block5_conv1 (Conv2D)       (None, 9, 9, 512)         2359808   \n",
            "                                                                 \n",
            " block5_conv2 (Conv2D)       (None, 9, 9, 512)         2359808   \n",
            "                                                                 \n",
            " block5_conv3 (Conv2D)       (None, 9, 9, 512)         2359808   \n",
            "                                                                 \n",
            " block5_pool (MaxPooling2D)  (None, 4, 4, 512)         0         \n",
            "                                                                 \n",
            "=================================================================\n",
            "Total params: 14714688 (56.13 MB)\n",
            "Trainable params: 14714688 (56.13 MB)\n",
            "Non-trainable params: 0 (0.00 Byte)\n",
            "_________________________________________________________________\n"
          ]
        }
      ]
    },
    {
      "cell_type": "code",
      "source": [
        "base_dir = 'E:\\Keras\\Dataset\\dogs-vs-cats_small'\n",
        "train_dir = os.path.join(base_dir, 'train')\n",
        "validation_dir = os.path.join(base_dir, 'validation')\n",
        "test_dir = os.path.join(base_dir, 'test')"
      ],
      "metadata": {
        "id": "g24JFJnS2L7R"
      },
      "execution_count": 36,
      "outputs": []
    },
    {
      "cell_type": "code",
      "source": [
        "datagen = ImageDataGenerator(rescale = 1./255)\n",
        "batch_size = 20"
      ],
      "metadata": {
        "id": "XC754GT42NTh"
      },
      "execution_count": 37,
      "outputs": []
    },
    {
      "cell_type": "code",
      "source": [
        "def features_extract (directory, sample_count):\n",
        "    features = np.zeros(shape = (sample_count, 4, 4, 512))\n",
        "    labels = np.zeros(shape = (sample_count))\n",
        "    generator = datagen.flow_from_directory(directory, target_size= (150, 150), batch_size = batch_size,\n",
        "                                            class_mode = 'binary')\n",
        "\n",
        "    i = 0\n",
        "    for input_batch, labels_batch in generator:\n",
        "        features_batch = conv_base.predict(input_batch)\n",
        "        features[i * batch_size : (i + 1) * batch_size] = features_batch\n",
        "        labels[i * batch_size : (i + 1) * batch_size] = labels_batch\n",
        "        i += 1\n",
        "        if i * batch_size >= sample_count:\n",
        "            break\n",
        "    return features, labels"
      ],
      "metadata": {
        "id": "wSDt0Rw22Pa7"
      },
      "execution_count": 38,
      "outputs": []
    },
    {
      "cell_type": "code",
      "source": [
        "model = models.Sequential()\n",
        "model.add(conv_base)\n",
        "model.add(layers.Flatten())\n",
        "model.add(layers.Dense(256, activation = 'relu'))\n",
        "model.add(layers.Dense(1, activation = 'sigmoid'))"
      ],
      "metadata": {
        "id": "zMdgxgfK6r1W"
      },
      "execution_count": 39,
      "outputs": []
    },
    {
      "cell_type": "code",
      "source": [
        "train_datagen = ImageDataGenerator(rescale = 1./255,\n",
        "rotation_range = 40, width_shift_range = 0.2, height_shift_range = 0.2,shear_range = 0.2, zoom_range = 0.2, horizontal_flip = True, fill_mode = 'nearest')\n",
        "\n",
        "\n",
        "test_datagen = ImageDataGenerator(rescale=1./255)"
      ],
      "metadata": {
        "id": "UPiLwXCL6tcP"
      },
      "execution_count": 40,
      "outputs": []
    },
    {
      "cell_type": "code",
      "source": [
        "train_generator = train_datagen.flow_from_directory('/content/drive/MyDrive/train', target_size=(150,150), batch_size=20, class_mode= 'binary')"
      ],
      "metadata": {
        "colab": {
          "base_uri": "https://localhost:8080/"
        },
        "id": "8Db_2wUb6wQ3",
        "outputId": "6fd51281-c97b-439a-f776-0e194059b105"
      },
      "execution_count": 41,
      "outputs": [
        {
          "output_type": "stream",
          "name": "stdout",
          "text": [
            "Found 557 images belonging to 2 classes.\n"
          ]
        }
      ]
    },
    {
      "cell_type": "code",
      "source": [
        "validation_generator = test_datagen.flow_from_directory('/content/drive/MyDrive/test', target_size=(150,150),batch_size=32,\n",
        "                                                        class_mode= 'binary')"
      ],
      "metadata": {
        "id": "mt_vM4En64Tf",
        "colab": {
          "base_uri": "https://localhost:8080/"
        },
        "outputId": "e3946dbe-4e81-4883-d430-9c87b4b6733c"
      },
      "execution_count": 42,
      "outputs": [
        {
          "output_type": "stream",
          "name": "stdout",
          "text": [
            "Found 140 images belonging to 2 classes.\n"
          ]
        }
      ]
    },
    {
      "cell_type": "code",
      "source": [
        "model.compile(optimizer = RMSprop(learning_rate=0.00001), loss = 'binary_crossentropy', metrics= ['acc'])"
      ],
      "metadata": {
        "id": "-CPzkId57Bxv"
      },
      "execution_count": 43,
      "outputs": []
    },
    {
      "cell_type": "code",
      "source": [
        "history = model.fit_generator(train_generator, steps_per_epoch = 20, epochs = 20,validation_data = validation_generator, validation_steps = 5)"
      ],
      "metadata": {
        "id": "1Iol6nS87DFX",
        "colab": {
          "base_uri": "https://localhost:8080/"
        },
        "outputId": "537fc70a-7a2a-4e86-fcef-1b56c7c55822"
      },
      "execution_count": 47,
      "outputs": [
        {
          "output_type": "stream",
          "name": "stderr",
          "text": [
            "<ipython-input-47-ad70d9bf3651>:1: UserWarning: `Model.fit_generator` is deprecated and will be removed in a future version. Please use `Model.fit`, which supports generators.\n",
            "  history = model.fit_generator(train_generator, steps_per_epoch = 20, epochs = 20,validation_data = validation_generator, validation_steps = 5)\n"
          ]
        },
        {
          "output_type": "stream",
          "name": "stdout",
          "text": [
            "Epoch 1/20\n",
            "20/20 [==============================] - 12s 402ms/step - loss: 0.6587 - acc: 0.6247 - val_loss: 0.6128 - val_acc: 0.7000\n",
            "Epoch 2/20\n",
            "20/20 [==============================] - 9s 428ms/step - loss: 0.5520 - acc: 0.7380 - val_loss: 0.5724 - val_acc: 0.6857\n",
            "Epoch 3/20\n",
            "20/20 [==============================] - 7s 351ms/step - loss: 0.4462 - acc: 0.8111 - val_loss: 0.5080 - val_acc: 0.7571\n",
            "Epoch 4/20\n",
            "20/20 [==============================] - 10s 523ms/step - loss: 0.3719 - acc: 0.8136 - val_loss: 0.5830 - val_acc: 0.7071\n",
            "Epoch 5/20\n",
            "20/20 [==============================] - 10s 458ms/step - loss: 0.3725 - acc: 0.8111 - val_loss: 0.4215 - val_acc: 0.8143\n",
            "Epoch 6/20\n",
            "20/20 [==============================] - 9s 435ms/step - loss: 0.3000 - acc: 0.8741 - val_loss: 0.4572 - val_acc: 0.7857\n",
            "Epoch 7/20\n",
            "20/20 [==============================] - 9s 461ms/step - loss: 0.2951 - acc: 0.8825 - val_loss: 0.3906 - val_acc: 0.8143\n",
            "Epoch 8/20\n",
            "20/20 [==============================] - 9s 428ms/step - loss: 0.2549 - acc: 0.8766 - val_loss: 0.4063 - val_acc: 0.8000\n",
            "Epoch 9/20\n",
            "20/20 [==============================] - 11s 550ms/step - loss: 0.2609 - acc: 0.9043 - val_loss: 0.3740 - val_acc: 0.8143\n",
            "Epoch 10/20\n",
            "20/20 [==============================] - 8s 404ms/step - loss: 0.2523 - acc: 0.8917 - val_loss: 0.3808 - val_acc: 0.8214\n",
            "Epoch 11/20\n",
            "20/20 [==============================] - 9s 434ms/step - loss: 0.2441 - acc: 0.8992 - val_loss: 0.5464 - val_acc: 0.8214\n",
            "Epoch 12/20\n",
            "20/20 [==============================] - 7s 335ms/step - loss: 0.2099 - acc: 0.9068 - val_loss: 0.4026 - val_acc: 0.8357\n",
            "Epoch 13/20\n",
            "20/20 [==============================] - 11s 563ms/step - loss: 0.2246 - acc: 0.9118 - val_loss: 0.3990 - val_acc: 0.8214\n",
            "Epoch 14/20\n",
            "20/20 [==============================] - 7s 356ms/step - loss: 0.2223 - acc: 0.9169 - val_loss: 0.3844 - val_acc: 0.8571\n",
            "Epoch 15/20\n",
            "20/20 [==============================] - 8s 369ms/step - loss: 0.1965 - acc: 0.9025 - val_loss: 0.3358 - val_acc: 0.8643\n",
            "Epoch 16/20\n",
            "20/20 [==============================] - 11s 557ms/step - loss: 0.1509 - acc: 0.9496 - val_loss: 0.3676 - val_acc: 0.8500\n",
            "Epoch 17/20\n",
            "20/20 [==============================] - 10s 465ms/step - loss: 0.1454 - acc: 0.9446 - val_loss: 0.4003 - val_acc: 0.8500\n",
            "Epoch 18/20\n",
            "20/20 [==============================] - 8s 395ms/step - loss: 0.1561 - acc: 0.9395 - val_loss: 0.4962 - val_acc: 0.8143\n",
            "Epoch 19/20\n",
            "20/20 [==============================] - 9s 437ms/step - loss: 0.1263 - acc: 0.9521 - val_loss: 0.2903 - val_acc: 0.8929\n",
            "Epoch 20/20\n",
            "20/20 [==============================] - 7s 353ms/step - loss: 0.1567 - acc: 0.9325 - val_loss: 0.3631 - val_acc: 0.8643\n"
          ]
        }
      ]
    },
    {
      "cell_type": "code",
      "source": [
        "from sklearn.metrics import f1_score\n",
        "\n",
        "validation_steps = len(validation_generator)\n",
        "predictions = model.predict_generator(validation_generator, steps=validation_steps)\n",
        "\n",
        "\n",
        "binary_predictions = np.round(predictions).reshape(-1)\n",
        "true_labels = validation_generator.classes\n",
        "\n",
        "f1score = f1_score(true_labels, binary_predictions)\n",
        "\n",
        "print(\"F1 Score:\", f1score)"
      ],
      "metadata": {
        "colab": {
          "base_uri": "https://localhost:8080/"
        },
        "id": "nJhrpV9rIG5b",
        "outputId": "137e6cdb-90f9-400f-df3e-21bf91f9efc5"
      },
      "execution_count": 52,
      "outputs": [
        {
          "output_type": "stream",
          "name": "stderr",
          "text": [
            "<ipython-input-52-dcf6d6ee7e52>:4: UserWarning: `Model.predict_generator` is deprecated and will be removed in a future version. Please use `Model.predict`, which supports generators.\n",
            "  predictions = model.predict_generator(validation_generator, steps=validation_steps)\n"
          ]
        },
        {
          "output_type": "stream",
          "name": "stdout",
          "text": [
            "F1 Score: 0.5771812080536913\n"
          ]
        }
      ]
    }
  ]
}